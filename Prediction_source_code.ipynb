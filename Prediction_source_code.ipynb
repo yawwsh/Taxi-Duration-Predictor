{
  "cells": [
    {
      "cell_type": "markdown",
      "metadata": {
        "id": "view-in-github",
        "colab_type": "text"
      },
      "source": [
        "<a href=\"https://colab.research.google.com/github/yawwsh/Taxi-Duration-Predictor/blob/main/Prediction_source_code.ipynb\" target=\"_parent\"><img src=\"https://colab.research.google.com/assets/colab-badge.svg\" alt=\"Open In Colab\"/></a>"
      ]
    },
    {
      "cell_type": "markdown",
      "metadata": {
        "id": "Of-GRUrIl_b4"
      },
      "source": [
        "# ***TITLE: Taxi trip duration prediction using multiple linear regression***"
      ]
    },
    {
      "cell_type": "markdown",
      "metadata": {
        "id": "zfLpA0CCmQcr"
      },
      "source": [
        "# Importing The Libraries\n",
        "\n"
      ]
    },
    {
      "cell_type": "code",
      "execution_count": null,
      "metadata": {
        "id": "uBNay0WAmY0X"
      },
      "outputs": [],
      "source": [
        "import numpy as np\n",
        "import matplotlib.pyplot as plt\n",
        "import pandas as pd\n",
        "import datetime as dt"
      ]
    },
    {
      "cell_type": "markdown",
      "metadata": {
        "id": "RopL7tUZSQkT"
      },
      "source": [
        "## Importing the dataset and clearing extra values"
      ]
    },
    {
      "cell_type": "code",
      "execution_count": null,
      "metadata": {
        "id": "5HpYltDAmsHt"
      },
      "outputs": [],
      "source": [
        "#importing training set\n",
        "train_dataset = pd.read_csv('train.csv')\n",
        "#dropping off dropoff date and time column from dataset because it is not there in test set\n",
        "train_dataset = train_dataset.drop('dropoff_datetime', axis=1)\n",
        "X_train = train_dataset.iloc[:,:-1].values\n",
        "y_train = train_dataset.iloc[:,-1].values\n",
        "#importing test set\n",
        "test_dataset = pd.read_csv('test.csv')\n",
        "X_test = test_dataset.iloc[:,:].values"
      ]
    },
    {
      "cell_type": "markdown",
      "metadata": {
        "id": "SRk0_imat3iF"
      },
      "source": [
        "# Taking care of Missing data"
      ]
    },
    {
      "cell_type": "code",
      "execution_count": null,
      "metadata": {
        "colab": {
          "base_uri": "https://localhost:8080/"
        },
        "id": "fo-Izi1it6dA",
        "outputId": "fbc44ba3-435e-4a57-cd51-8b02a6b09e2a"
      },
      "outputs": [
        {
          "output_type": "stream",
          "name": "stdout",
          "text": [
            "0\n"
          ]
        }
      ],
      "source": [
        "#check if there is any missing value\n",
        "missing_values = train_dataset.isnull().sum().sum()\n",
        "print(missing_values)"
      ]
    },
    {
      "cell_type": "markdown",
      "metadata": {
        "id": "Zz-wVXUk0xoU"
      },
      "source": [
        "# Data preprocessing"
      ]
    },
    {
      "cell_type": "markdown",
      "metadata": {
        "id": "bcGB0onH2nMU"
      },
      "source": [
        "## Spliting date and time column in training set"
      ]
    },
    {
      "cell_type": "code",
      "execution_count": null,
      "metadata": {
        "colab": {
          "base_uri": "https://localhost:8080/"
        },
        "id": "fU5gTow67zBb",
        "outputId": "ac826c7e-21ab-4a17-b7d9-c0cc3c242ee0"
      },
      "outputs": [
        {
          "output_type": "stream",
          "name": "stdout",
          "text": [
            "                id vendor_id passenger_count pickup_longitude pickup_latitude  \\\n",
            "0        id2875421         2               1       -73.982155       40.767937   \n",
            "1        id2377394         1               1       -73.980415       40.738564   \n",
            "2        id3858529         2               1       -73.979027       40.763939   \n",
            "3        id3504673         2               1        -74.01004       40.719971   \n",
            "4        id2181028         2               1       -73.973053       40.793209   \n",
            "...            ...       ...             ...              ...             ...   \n",
            "1458639  id2376096         2               4       -73.982201       40.745522   \n",
            "1458640  id1049543         1               1       -74.000946       40.747379   \n",
            "1458641  id2304944         2               1       -73.959129       40.768799   \n",
            "1458642  id2714485         1               1       -73.982079       40.749062   \n",
            "1458643  id1209952         1               1       -73.979538        40.78175   \n",
            "\n",
            "        dropoff_longitude dropoff_latitude store_and_fwd_flag        date  \\\n",
            "0               -73.96463        40.765602                  N  2016-03-14   \n",
            "1              -73.999481        40.731152                  N  2016-06-12   \n",
            "2              -74.005333        40.710087                  N  2016-01-19   \n",
            "3              -74.012268        40.706718                  N  2016-04-06   \n",
            "4              -73.972923         40.78252                  N  2016-03-26   \n",
            "...                   ...              ...                ...         ...   \n",
            "1458639        -73.994911         40.74017                  N  2016-04-08   \n",
            "1458640        -73.970184        40.796547                  N  2016-01-10   \n",
            "1458641        -74.004433        40.707371                  N  2016-04-22   \n",
            "1458642        -73.974632        40.757107                  N  2016-01-05   \n",
            "1458643        -73.972809        40.790585                  N  2016-04-05   \n",
            "\n",
            "             time  \n",
            "0        17:24:55  \n",
            "1        00:43:35  \n",
            "2        11:35:24  \n",
            "3        19:32:31  \n",
            "4        13:30:55  \n",
            "...           ...  \n",
            "1458639  13:31:04  \n",
            "1458640  07:35:15  \n",
            "1458641  06:57:41  \n",
            "1458642  15:56:26  \n",
            "1458643  14:44:25  \n",
            "\n",
            "[1458644 rows x 10 columns]\n"
          ]
        }
      ],
      "source": [
        "# Convert X_train to a DataFrame\n",
        "X_train = pd.DataFrame(X_train, columns=train_dataset.columns[:-1])\n",
        "\n",
        "# Convert the 'pickup_datetime' column to datetime type\n",
        "X_train['pickup_datetime'] = pd.to_datetime(X_train['pickup_datetime'], format='%Y-%m-%d %H:%M:%S')\n",
        "\n",
        "# Extract the date and time components\n",
        "X_train['date'] = X_train['pickup_datetime'].dt.date\n",
        "X_train['time'] = X_train['pickup_datetime'].dt.time\n",
        "\n",
        "#drop original column\n",
        "X_train = X_train.drop('pickup_datetime', axis=1)\n",
        "\n",
        "print(X_train)"
      ]
    },
    {
      "cell_type": "markdown",
      "metadata": {
        "id": "k9CUs7YX-P3d"
      },
      "source": [
        "## Spliting date and time column in test set"
      ]
    },
    {
      "cell_type": "code",
      "execution_count": null,
      "metadata": {
        "colab": {
          "base_uri": "https://localhost:8080/"
        },
        "id": "DO1uI9Al-YRY",
        "outputId": "57a97929-379c-420b-ece0-a35287124b92"
      },
      "outputs": [
        {
          "output_type": "stream",
          "name": "stdout",
          "text": [
            "               id vendor_id passenger_count pickup_longitude pickup_latitude  \\\n",
            "0       id3004672         1               1       -73.988129       40.732029   \n",
            "1       id3505355         1               1       -73.964203       40.679993   \n",
            "2       id1217141         1               1       -73.997437       40.737583   \n",
            "3       id2150126         2               1        -73.95607         40.7719   \n",
            "4       id1598245         1               1       -73.970215       40.761475   \n",
            "...           ...       ...             ...              ...             ...   \n",
            "625129  id3008929         1               1       -74.003464       40.725105   \n",
            "625130  id3700764         1               1       -74.006363       40.743782   \n",
            "625131  id2568735         1               2       -73.972267       40.759865   \n",
            "625132  id1384355         1               1       -73.976501       40.733562   \n",
            "625133  id0621643         2               2        -73.98185       40.716881   \n",
            "\n",
            "       dropoff_longitude dropoff_latitude store_and_fwd_flag        date  \\\n",
            "0             -73.990173         40.75668                  N  2016-06-30   \n",
            "1             -73.959808        40.655403                  N  2016-06-30   \n",
            "2              -73.98616        40.729523                  N  2016-06-30   \n",
            "3             -73.986427        40.730469                  N  2016-06-30   \n",
            "4              -73.96151         40.75589                  N  2016-06-30   \n",
            "...                  ...              ...                ...         ...   \n",
            "625129        -74.001251        40.733643                  N  2016-01-01   \n",
            "625130        -73.953407        40.782467                  N  2016-01-01   \n",
            "625131        -73.876602        40.748665                  N  2016-01-01   \n",
            "625132        -73.854263        40.891788                  N  2016-01-01   \n",
            "625133         -73.96933        40.769379                  N  2016-01-01   \n",
            "\n",
            "            time  \n",
            "0       23:59:58  \n",
            "1       23:59:53  \n",
            "2       23:59:47  \n",
            "3       23:59:41  \n",
            "4       23:59:33  \n",
            "...          ...  \n",
            "625129  00:02:52  \n",
            "625130  00:01:52  \n",
            "625131  00:01:24  \n",
            "625132  00:00:28  \n",
            "625133  00:00:22  \n",
            "\n",
            "[625134 rows x 10 columns]\n"
          ]
        }
      ],
      "source": [
        "# Convert X_test to a DataFrame\n",
        "X_test = pd.DataFrame(X_test, columns=train_dataset.columns[:-1])\n",
        "\n",
        "# Convert the 'pickup_datetime' column to datetime type\n",
        "X_test['pickup_datetime'] = pd.to_datetime(X_test['pickup_datetime'], format='%Y-%m-%d %H:%M:%S')\n",
        "\n",
        "# Extract the date and time components\n",
        "X_test['date'] = X_test['pickup_datetime'].dt.date\n",
        "X_test['time'] = X_test['pickup_datetime'].dt.time\n",
        "\n",
        "#drop original column\n",
        "X_test = X_test.drop('pickup_datetime', axis=1)\n",
        "\n",
        "print(X_test)"
      ]
    },
    {
      "cell_type": "markdown",
      "metadata": {
        "id": "BH_8nWLbf5C5"
      },
      "source": [
        "## Preprocessing the date and time columns"
      ]
    },
    {
      "cell_type": "markdown",
      "metadata": {
        "id": "BqqL3nbkijBW"
      },
      "source": [
        "## Date"
      ]
    },
    {
      "cell_type": "code",
      "execution_count": null,
      "metadata": {
        "id": "plqKPyj7f_cZ"
      },
      "outputs": [],
      "source": [
        "dates = pd.to_datetime(X_train.iloc[:, 8])  # Convert the date column to datetime\n",
        "X_train_date_features = pd.DataFrame({\n",
        "    'day': dates.dt.day,\n",
        "    'month': dates.dt.month,\n",
        "    'year': dates.dt.year\n",
        "})\n",
        "#drop original column\n",
        "X_train = X_train.drop('date', axis=1)\n",
        "\n",
        "#now for test dataset\n",
        "dates = pd.to_datetime(X_test.iloc[:, 8])  # Convert the date column to datetime\n",
        "X_test_date_features = pd.DataFrame({\n",
        "    'day': dates.dt.day,\n",
        "    'month': dates.dt.month,\n",
        "    'year': dates.dt.year\n",
        "})\n",
        "#drop original column\n",
        "X_test = X_test.drop('date', axis=1)"
      ]
    },
    {
      "cell_type": "markdown",
      "metadata": {
        "id": "-a594YWWimbT"
      },
      "source": [
        "## Time"
      ]
    },
    {
      "cell_type": "code",
      "execution_count": null,
      "metadata": {
        "id": "98PnUOgUinxe"
      },
      "outputs": [],
      "source": [
        "times = pd.to_datetime(X_train.iloc[:, 8], format='%H:%M:%S')\n",
        "train_time_features = pd.DataFrame({\n",
        "    'hour': times.dt.hour,\n",
        "    'minute': times.dt.minute,\n",
        "    'second': times.dt.second\n",
        "})\n",
        "#drop\n",
        "X_train = X_train.drop('time',axis=1)\n",
        "\n",
        "#now for test dataset\n",
        "times = pd.to_datetime(X_test.iloc[:, 8], format='%H:%M:%S')\n",
        "test_time_features = pd.DataFrame({\n",
        "    'hour': times.dt.hour,\n",
        "    'minute': times.dt.minute,\n",
        "    'second': times.dt.second\n",
        "})\n",
        "#drop\n",
        "X_test = X_test.drop('time',axis=1)\n",
        "#also drop id column from both datasets as it does not have any significant effects on target variable\n",
        "X_train=  X_train.drop('id',axis=1)\n",
        "X_test= X_test.drop('id',axis=1)"
      ]
    },
    {
      "cell_type": "markdown",
      "metadata": {
        "id": "29OT949Rjvyl"
      },
      "source": [
        "# Concatenating date and time dataframes in original dataset"
      ]
    },
    {
      "cell_type": "code",
      "execution_count": null,
      "metadata": {
        "id": "5d3ot0Dpj4m5"
      },
      "outputs": [],
      "source": [
        "df_datetime = pd.concat([X_train_date_features, train_time_features], axis=1)\n",
        "X_train = pd.concat([X_train,df_datetime], axis=1)\n",
        "\n",
        "#test\n",
        "df_datetime = pd.concat([X_test_date_features, test_time_features], axis=1)\n",
        "X_test = pd.concat([X_test,df_datetime], axis=1)"
      ]
    },
    {
      "cell_type": "code",
      "execution_count": null,
      "metadata": {
        "colab": {
          "base_uri": "https://localhost:8080/"
        },
        "id": "Mx4qbHE5ltBr",
        "outputId": "6f5cdde7-054c-474d-d652-950f09bb3d9e"
      },
      "outputs": [
        {
          "output_type": "stream",
          "name": "stdout",
          "text": [
            "       vendor_id passenger_count pickup_longitude pickup_latitude  \\\n",
            "0              1               1       -73.988129       40.732029   \n",
            "1              1               1       -73.964203       40.679993   \n",
            "2              1               1       -73.997437       40.737583   \n",
            "3              2               1        -73.95607         40.7719   \n",
            "4              1               1       -73.970215       40.761475   \n",
            "...          ...             ...              ...             ...   \n",
            "625129         1               1       -74.003464       40.725105   \n",
            "625130         1               1       -74.006363       40.743782   \n",
            "625131         1               2       -73.972267       40.759865   \n",
            "625132         1               1       -73.976501       40.733562   \n",
            "625133         2               2        -73.98185       40.716881   \n",
            "\n",
            "       dropoff_longitude dropoff_latitude store_and_fwd_flag  day  month  \\\n",
            "0             -73.990173         40.75668                  N   30      6   \n",
            "1             -73.959808        40.655403                  N   30      6   \n",
            "2              -73.98616        40.729523                  N   30      6   \n",
            "3             -73.986427        40.730469                  N   30      6   \n",
            "4              -73.96151         40.75589                  N   30      6   \n",
            "...                  ...              ...                ...  ...    ...   \n",
            "625129        -74.001251        40.733643                  N    1      1   \n",
            "625130        -73.953407        40.782467                  N    1      1   \n",
            "625131        -73.876602        40.748665                  N    1      1   \n",
            "625132        -73.854263        40.891788                  N    1      1   \n",
            "625133         -73.96933        40.769379                  N    1      1   \n",
            "\n",
            "        year  hour  minute  second  \n",
            "0       2016    23      59      58  \n",
            "1       2016    23      59      53  \n",
            "2       2016    23      59      47  \n",
            "3       2016    23      59      41  \n",
            "4       2016    23      59      33  \n",
            "...      ...   ...     ...     ...  \n",
            "625129  2016     0       2      52  \n",
            "625130  2016     0       1      52  \n",
            "625131  2016     0       1      24  \n",
            "625132  2016     0       0      28  \n",
            "625133  2016     0       0      22  \n",
            "\n",
            "[625134 rows x 13 columns]\n"
          ]
        }
      ],
      "source": [
        "print(X_test)"
      ]
    },
    {
      "cell_type": "markdown",
      "metadata": {
        "id": "tNstG607_lgX"
      },
      "source": [
        "# Hot encoding"
      ]
    },
    {
      "cell_type": "markdown",
      "metadata": {
        "id": "ZvT4vurT_tsw"
      },
      "source": [
        "## Hot encoding independent variables in training dataset"
      ]
    },
    {
      "cell_type": "code",
      "execution_count": null,
      "metadata": {
        "id": "T0xeSzV0_vHO"
      },
      "outputs": [],
      "source": [
        "from sklearn.compose import ColumnTransformer\n",
        "from sklearn.preprocessing import OneHotEncoder\n",
        "# Specify the column indices to be one-hot encoded\n",
        "encoder = ColumnTransformer(transformers=[('encoder', OneHotEncoder(), [6])], remainder='passthrough')\n",
        "# Apply the transformation to X_train\n",
        "X_train= np.array(encoder.fit_transform(X_train))"
      ]
    },
    {
      "cell_type": "markdown",
      "metadata": {
        "id": "sySyxcLGC8Kp"
      },
      "source": [
        "## Hot encoding independent variables in test dataset"
      ]
    },
    {
      "cell_type": "code",
      "execution_count": null,
      "metadata": {
        "id": "peUE41bAC93U"
      },
      "outputs": [],
      "source": [
        "from sklearn.compose import ColumnTransformer\n",
        "from sklearn.preprocessing import OneHotEncoder\n",
        "\n",
        "ct = ColumnTransformer(transformers=[('encoder', OneHotEncoder(), [6])], remainder='passthrough')\n",
        "X_test=np.array(ct.fit_transform(X_test))"
      ]
    },
    {
      "cell_type": "markdown",
      "metadata": {
        "id": "4b6KWC7GDRHU"
      },
      "source": [
        "# Training the Multiple Linear Regression model on the Training set"
      ]
    },
    {
      "cell_type": "code",
      "execution_count": null,
      "metadata": {
        "colab": {
          "base_uri": "https://localhost:8080/",
          "height": 74
        },
        "id": "sk4KQhMjDVs4",
        "outputId": "16642bb5-b820-4fda-b218-51fe2f6e8796"
      },
      "outputs": [
        {
          "output_type": "execute_result",
          "data": {
            "text/plain": [
              "LinearRegression()"
            ],
            "text/html": [
              "<style>#sk-container-id-5 {color: black;background-color: white;}#sk-container-id-5 pre{padding: 0;}#sk-container-id-5 div.sk-toggleable {background-color: white;}#sk-container-id-5 label.sk-toggleable__label {cursor: pointer;display: block;width: 100%;margin-bottom: 0;padding: 0.3em;box-sizing: border-box;text-align: center;}#sk-container-id-5 label.sk-toggleable__label-arrow:before {content: \"▸\";float: left;margin-right: 0.25em;color: #696969;}#sk-container-id-5 label.sk-toggleable__label-arrow:hover:before {color: black;}#sk-container-id-5 div.sk-estimator:hover label.sk-toggleable__label-arrow:before {color: black;}#sk-container-id-5 div.sk-toggleable__content {max-height: 0;max-width: 0;overflow: hidden;text-align: left;background-color: #f0f8ff;}#sk-container-id-5 div.sk-toggleable__content pre {margin: 0.2em;color: black;border-radius: 0.25em;background-color: #f0f8ff;}#sk-container-id-5 input.sk-toggleable__control:checked~div.sk-toggleable__content {max-height: 200px;max-width: 100%;overflow: auto;}#sk-container-id-5 input.sk-toggleable__control:checked~label.sk-toggleable__label-arrow:before {content: \"▾\";}#sk-container-id-5 div.sk-estimator input.sk-toggleable__control:checked~label.sk-toggleable__label {background-color: #d4ebff;}#sk-container-id-5 div.sk-label input.sk-toggleable__control:checked~label.sk-toggleable__label {background-color: #d4ebff;}#sk-container-id-5 input.sk-hidden--visually {border: 0;clip: rect(1px 1px 1px 1px);clip: rect(1px, 1px, 1px, 1px);height: 1px;margin: -1px;overflow: hidden;padding: 0;position: absolute;width: 1px;}#sk-container-id-5 div.sk-estimator {font-family: monospace;background-color: #f0f8ff;border: 1px dotted black;border-radius: 0.25em;box-sizing: border-box;margin-bottom: 0.5em;}#sk-container-id-5 div.sk-estimator:hover {background-color: #d4ebff;}#sk-container-id-5 div.sk-parallel-item::after {content: \"\";width: 100%;border-bottom: 1px solid gray;flex-grow: 1;}#sk-container-id-5 div.sk-label:hover label.sk-toggleable__label {background-color: #d4ebff;}#sk-container-id-5 div.sk-serial::before {content: \"\";position: absolute;border-left: 1px solid gray;box-sizing: border-box;top: 0;bottom: 0;left: 50%;z-index: 0;}#sk-container-id-5 div.sk-serial {display: flex;flex-direction: column;align-items: center;background-color: white;padding-right: 0.2em;padding-left: 0.2em;position: relative;}#sk-container-id-5 div.sk-item {position: relative;z-index: 1;}#sk-container-id-5 div.sk-parallel {display: flex;align-items: stretch;justify-content: center;background-color: white;position: relative;}#sk-container-id-5 div.sk-item::before, #sk-container-id-5 div.sk-parallel-item::before {content: \"\";position: absolute;border-left: 1px solid gray;box-sizing: border-box;top: 0;bottom: 0;left: 50%;z-index: -1;}#sk-container-id-5 div.sk-parallel-item {display: flex;flex-direction: column;z-index: 1;position: relative;background-color: white;}#sk-container-id-5 div.sk-parallel-item:first-child::after {align-self: flex-end;width: 50%;}#sk-container-id-5 div.sk-parallel-item:last-child::after {align-self: flex-start;width: 50%;}#sk-container-id-5 div.sk-parallel-item:only-child::after {width: 0;}#sk-container-id-5 div.sk-dashed-wrapped {border: 1px dashed gray;margin: 0 0.4em 0.5em 0.4em;box-sizing: border-box;padding-bottom: 0.4em;background-color: white;}#sk-container-id-5 div.sk-label label {font-family: monospace;font-weight: bold;display: inline-block;line-height: 1.2em;}#sk-container-id-5 div.sk-label-container {text-align: center;}#sk-container-id-5 div.sk-container {/* jupyter's `normalize.less` sets `[hidden] { display: none; }` but bootstrap.min.css set `[hidden] { display: none !important; }` so we also need the `!important` here to be able to override the default hidden behavior on the sphinx rendered scikit-learn.org. See: https://github.com/scikit-learn/scikit-learn/issues/21755 */display: inline-block !important;position: relative;}#sk-container-id-5 div.sk-text-repr-fallback {display: none;}</style><div id=\"sk-container-id-5\" class=\"sk-top-container\"><div class=\"sk-text-repr-fallback\"><pre>LinearRegression()</pre><b>In a Jupyter environment, please rerun this cell to show the HTML representation or trust the notebook. <br />On GitHub, the HTML representation is unable to render, please try loading this page with nbviewer.org.</b></div><div class=\"sk-container\" hidden><div class=\"sk-item\"><div class=\"sk-estimator sk-toggleable\"><input class=\"sk-toggleable__control sk-hidden--visually\" id=\"sk-estimator-id-5\" type=\"checkbox\" checked><label for=\"sk-estimator-id-5\" class=\"sk-toggleable__label sk-toggleable__label-arrow\">LinearRegression</label><div class=\"sk-toggleable__content\"><pre>LinearRegression()</pre></div></div></div></div></div>"
            ]
          },
          "metadata": {},
          "execution_count": 59
        }
      ],
      "source": [
        "from sklearn.linear_model import LinearRegression\n",
        "y_train_orig=y_train\n",
        "y_train= y_train.reshape(-1, 1)\n",
        "regressor = LinearRegression()\n",
        "regressor.fit(X_train,y_train)"
      ]
    },
    {
      "cell_type": "markdown",
      "metadata": {
        "id": "KxhF4Lqrurzz"
      },
      "source": [
        "# Predicting the Test set results via Multiple Linear regression"
      ]
    },
    {
      "cell_type": "code",
      "execution_count": null,
      "metadata": {
        "colab": {
          "base_uri": "https://localhost:8080/"
        },
        "id": "KlwoXBg3us4R",
        "outputId": "deadf6c7-0734-4f2a-bd44-d1dcef67a4a5"
      },
      "outputs": [
        {
          "output_type": "stream",
          "name": "stdout",
          "text": [
            "[[ 937.42]\n",
            " [1345.62]\n",
            " [ 937.08]\n",
            " ...\n",
            " [ 694.76]\n",
            " [ 514.26]\n",
            " [1056.81]]\n"
          ]
        }
      ],
      "source": [
        "y_pred = regressor.predict(X_test)\n",
        "np.set_printoptions(precision=2)\n",
        "print(y_pred.reshape(len(y_pred),1))"
      ]
    },
    {
      "cell_type": "markdown",
      "source": [
        "Since there is no column for target variable in test dataset , hence we cannot compare our predictions and hence cannot evaluate the model"
      ],
      "metadata": {
        "id": "Nxu85g6hBtjI"
      }
    },
    {
      "cell_type": "markdown",
      "metadata": {
        "id": "NfsdgqRAzo96"
      },
      "source": [
        "# Using Random Forest Algorithm"
      ]
    },
    {
      "cell_type": "code",
      "execution_count": null,
      "metadata": {
        "colab": {
          "base_uri": "https://localhost:8080/",
          "height": 74
        },
        "id": "V11E7CORzty8",
        "outputId": "95763e6e-73ce-4c7f-e8d0-fe363764658d"
      },
      "outputs": [
        {
          "output_type": "execute_result",
          "data": {
            "text/plain": [
              "RandomForestRegressor(n_estimators=10, random_state=0)"
            ],
            "text/html": [
              "<style>#sk-container-id-6 {color: black;background-color: white;}#sk-container-id-6 pre{padding: 0;}#sk-container-id-6 div.sk-toggleable {background-color: white;}#sk-container-id-6 label.sk-toggleable__label {cursor: pointer;display: block;width: 100%;margin-bottom: 0;padding: 0.3em;box-sizing: border-box;text-align: center;}#sk-container-id-6 label.sk-toggleable__label-arrow:before {content: \"▸\";float: left;margin-right: 0.25em;color: #696969;}#sk-container-id-6 label.sk-toggleable__label-arrow:hover:before {color: black;}#sk-container-id-6 div.sk-estimator:hover label.sk-toggleable__label-arrow:before {color: black;}#sk-container-id-6 div.sk-toggleable__content {max-height: 0;max-width: 0;overflow: hidden;text-align: left;background-color: #f0f8ff;}#sk-container-id-6 div.sk-toggleable__content pre {margin: 0.2em;color: black;border-radius: 0.25em;background-color: #f0f8ff;}#sk-container-id-6 input.sk-toggleable__control:checked~div.sk-toggleable__content {max-height: 200px;max-width: 100%;overflow: auto;}#sk-container-id-6 input.sk-toggleable__control:checked~label.sk-toggleable__label-arrow:before {content: \"▾\";}#sk-container-id-6 div.sk-estimator input.sk-toggleable__control:checked~label.sk-toggleable__label {background-color: #d4ebff;}#sk-container-id-6 div.sk-label input.sk-toggleable__control:checked~label.sk-toggleable__label {background-color: #d4ebff;}#sk-container-id-6 input.sk-hidden--visually {border: 0;clip: rect(1px 1px 1px 1px);clip: rect(1px, 1px, 1px, 1px);height: 1px;margin: -1px;overflow: hidden;padding: 0;position: absolute;width: 1px;}#sk-container-id-6 div.sk-estimator {font-family: monospace;background-color: #f0f8ff;border: 1px dotted black;border-radius: 0.25em;box-sizing: border-box;margin-bottom: 0.5em;}#sk-container-id-6 div.sk-estimator:hover {background-color: #d4ebff;}#sk-container-id-6 div.sk-parallel-item::after {content: \"\";width: 100%;border-bottom: 1px solid gray;flex-grow: 1;}#sk-container-id-6 div.sk-label:hover label.sk-toggleable__label {background-color: #d4ebff;}#sk-container-id-6 div.sk-serial::before {content: \"\";position: absolute;border-left: 1px solid gray;box-sizing: border-box;top: 0;bottom: 0;left: 50%;z-index: 0;}#sk-container-id-6 div.sk-serial {display: flex;flex-direction: column;align-items: center;background-color: white;padding-right: 0.2em;padding-left: 0.2em;position: relative;}#sk-container-id-6 div.sk-item {position: relative;z-index: 1;}#sk-container-id-6 div.sk-parallel {display: flex;align-items: stretch;justify-content: center;background-color: white;position: relative;}#sk-container-id-6 div.sk-item::before, #sk-container-id-6 div.sk-parallel-item::before {content: \"\";position: absolute;border-left: 1px solid gray;box-sizing: border-box;top: 0;bottom: 0;left: 50%;z-index: -1;}#sk-container-id-6 div.sk-parallel-item {display: flex;flex-direction: column;z-index: 1;position: relative;background-color: white;}#sk-container-id-6 div.sk-parallel-item:first-child::after {align-self: flex-end;width: 50%;}#sk-container-id-6 div.sk-parallel-item:last-child::after {align-self: flex-start;width: 50%;}#sk-container-id-6 div.sk-parallel-item:only-child::after {width: 0;}#sk-container-id-6 div.sk-dashed-wrapped {border: 1px dashed gray;margin: 0 0.4em 0.5em 0.4em;box-sizing: border-box;padding-bottom: 0.4em;background-color: white;}#sk-container-id-6 div.sk-label label {font-family: monospace;font-weight: bold;display: inline-block;line-height: 1.2em;}#sk-container-id-6 div.sk-label-container {text-align: center;}#sk-container-id-6 div.sk-container {/* jupyter's `normalize.less` sets `[hidden] { display: none; }` but bootstrap.min.css set `[hidden] { display: none !important; }` so we also need the `!important` here to be able to override the default hidden behavior on the sphinx rendered scikit-learn.org. See: https://github.com/scikit-learn/scikit-learn/issues/21755 */display: inline-block !important;position: relative;}#sk-container-id-6 div.sk-text-repr-fallback {display: none;}</style><div id=\"sk-container-id-6\" class=\"sk-top-container\"><div class=\"sk-text-repr-fallback\"><pre>RandomForestRegressor(n_estimators=10, random_state=0)</pre><b>In a Jupyter environment, please rerun this cell to show the HTML representation or trust the notebook. <br />On GitHub, the HTML representation is unable to render, please try loading this page with nbviewer.org.</b></div><div class=\"sk-container\" hidden><div class=\"sk-item\"><div class=\"sk-estimator sk-toggleable\"><input class=\"sk-toggleable__control sk-hidden--visually\" id=\"sk-estimator-id-6\" type=\"checkbox\" checked><label for=\"sk-estimator-id-6\" class=\"sk-toggleable__label sk-toggleable__label-arrow\">RandomForestRegressor</label><div class=\"sk-toggleable__content\"><pre>RandomForestRegressor(n_estimators=10, random_state=0)</pre></div></div></div></div></div>"
            ]
          },
          "metadata": {},
          "execution_count": 61
        }
      ],
      "source": [
        "from sklearn.ensemble import RandomForestRegressor\n",
        "regressor1 = RandomForestRegressor(n_estimators=10,random_state=0)\n",
        "regressor1.fit(X_train,y_train_orig)"
      ]
    },
    {
      "cell_type": "markdown",
      "source": [
        "# Making a single prediction random forest regressor\n",
        "\n",
        "---\n",
        "\n"
      ],
      "metadata": {
        "id": "vXItn-mU_a73"
      }
    },
    {
      "cell_type": "code",
      "source": [
        "regressor1.predict([[1.0,0.0,1,1,-73.9804153442382,40.7385635375976,-73.9994812011718,40.7311515808105,12,6,2016,0,54,10]])"
      ],
      "metadata": {
        "colab": {
          "base_uri": "https://localhost:8080/"
        },
        "id": "RGTnQFvW_gnB",
        "outputId": "b91f12c0-8110-4b65-b6d7-696ad4a1ebe4"
      },
      "execution_count": null,
      "outputs": [
        {
          "output_type": "execute_result",
          "data": {
            "text/plain": [
              "array([574.1])"
            ]
          },
          "metadata": {},
          "execution_count": 62
        }
      ]
    },
    {
      "cell_type": "markdown",
      "source": [
        "This prediction is made for varius factors using random forest algorithm which and this prediction is very close to the real one"
      ],
      "metadata": {
        "id": "lvlcLrgiB4Fp"
      }
    },
    {
      "cell_type": "markdown",
      "source": [
        "# Visualising"
      ],
      "metadata": {
        "id": "DmkrIfwOCCdu"
      }
    },
    {
      "cell_type": "markdown",
      "source": [
        "## Using scatter plots"
      ],
      "metadata": {
        "id": "yB5A6OqDOCYc"
      }
    },
    {
      "cell_type": "code",
      "source": [
        "#scatter plot of predicted trip duration against the number of passengers\n",
        "plt.scatter(X_test[:, 3], y_pred, color='red')\n",
        "plt.xlabel('Passenger Count')\n",
        "plt.ylabel('Predicted Trip Duration')\n",
        "plt.title('Predicted Trip Duration vs Passenger Count')\n",
        "plt.show()"
      ],
      "metadata": {
        "colab": {
          "base_uri": "https://localhost:8080/",
          "height": 472
        },
        "id": "F3r8GyBVCE-J",
        "outputId": "62f245f5-16f7-45e8-b88f-c99b344a77a1"
      },
      "execution_count": null,
      "outputs": [
        {
          "output_type": "display_data",
          "data": {
            "text/plain": [
              "<Figure size 640x480 with 1 Axes>"
            ],
            "image/png": "[encoded data removed]"
          },
          "metadata": {}
        }
      ]
    },
    {
      "cell_type": "markdown",
      "source": [
        "## Histogram to show relation between vendor id and passenger count"
      ],
      "metadata": {
        "id": "ZoX67IxbN9o2"
      }
    },
    {
      "cell_type": "code",
      "source": [
        "variable1 = X_train[:, 2]  # Vendor id\n",
        "variable2 = X_train[:, 3]  # Passenger count\n",
        "\n",
        "plt.hist(variable1, bins=10, alpha=0.5, label='Variable 1')\n",
        "plt.hist(variable2, bins=10, alpha=0.5, label='Variable 2')\n",
        "plt.xlabel('Variable Values')\n",
        "plt.ylabel('Frequency')\n",
        "plt.title('Histograms of Variable 1 and Variable 2')\n",
        "plt.legend()\n",
        "plt.show()"
      ],
      "metadata": {
        "colab": {
          "base_uri": "https://localhost:8080/",
          "height": 472
        },
        "id": "_TZY8BniNx0r",
        "outputId": "7818ac56-b99c-429e-98f4-28ed73f4436a"
      },
      "execution_count": null,
      "outputs": [
        {
          "output_type": "display_data",
          "data": {
            "text/plain": [
              "<Figure size 640x480 with 1 Axes>"
            ],
            "image/png": "[encoded data removed]"
          },
          "metadata": {}
        }
      ]
    },
    {
      "cell_type": "markdown",
      "source": [
        "# Box plot"
      ],
      "metadata": {
        "id": "9MEsdMP5NS_H"
      }
    },
    {
      "cell_type": "code",
      "source": [
        "#a box plot of predicted trip durations\n",
        "plt.boxplot(y_pred)\n",
        "plt.ylabel('Predicted Trip Duration')\n",
        "plt.title('Box Plot of Predicted Trip Durations')\n",
        "plt.show()\n"
      ],
      "metadata": {
        "colab": {
          "base_uri": "https://localhost:8080/",
          "height": 452
        },
        "id": "Qo8qE1E_NVIS",
        "outputId": "16dccb81-1302-4ac5-faf2-ef1e90e5a406"
      },
      "execution_count": null,
      "outputs": [
        {
          "output_type": "display_data",
          "data": {
            "text/plain": [
              "<Figure size 640x480 with 1 Axes>"
            ],
            "image/png": "[encoded data removed]"
          },
          "metadata": {}
        }
      ]
    }
  ],
  "metadata": {
    "colab": {
      "provenance": [],
      "authorship_tag": "ABX9TyOjCEp3vANWjj6yE/PMXS1D",
      "include_colab_link": true
    },
    "kernelspec": {
      "display_name": "Python 3",
      "name": "python3"
    },
    "language_info": {
      "name": "python"
    }
  },
  "nbformat": 4,
  "nbformat_minor": 0
}